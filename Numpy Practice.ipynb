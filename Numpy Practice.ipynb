{
 "cells": [
  {
   "cell_type": "code",
   "execution_count": 2,
   "id": "28748736",
   "metadata": {},
   "outputs": [],
   "source": [
    "import numpy as np"
   ]
  },
  {
   "cell_type": "code",
   "execution_count": 17,
   "id": "62766e30",
   "metadata": {
    "scrolled": true
   },
   "outputs": [
    {
     "name": "stdout",
     "output_type": "stream",
     "text": [
      "[[1 2 3]\n",
      " [4 5 6]]\n",
      "Dimension of array b: 2\n"
     ]
    }
   ],
   "source": [
    "arr = np.array(42)   # 0-D array\n",
    "a = np.array([1,2])   #1-D array\n",
    "b = np.array([[1,2,3], [4,5,6]])   #3-D array\n",
    "print(b)\n",
    "print(\"Dimension of array b:\",b.ndim)"
   ]
  },
  {
   "cell_type": "code",
   "execution_count": 19,
   "id": "d7bfa107",
   "metadata": {
    "scrolled": true
   },
   "outputs": [
    {
     "name": "stdout",
     "output_type": "stream",
     "text": [
      "[[[[1 2 3 4]]]]\n",
      "Number of dimensions of arr: 4\n"
     ]
    }
   ],
   "source": [
    "#An array can have any number of dimensions\n",
    "#When the array is created, you can define the number of dimensions by using the ndmin argument.\n",
    "\n",
    "arr = np.array([1,2,3,4], ndmin=4)\n",
    "print(arr)\n",
    "print(\"Number of dimensions of arr:\", arr.ndim)\n"
   ]
  },
  {
   "cell_type": "code",
   "execution_count": 24,
   "id": "835003b0",
   "metadata": {},
   "outputs": [
    {
     "name": "stdout",
     "output_type": "stream",
     "text": [
      "3\n",
      "4\n",
      "5 7\n"
     ]
    }
   ],
   "source": [
    "#Accessing arrays\n",
    "a = np.array([1,2,3])\n",
    "print(a[2])\n",
    "\n",
    "b = np.array([[1,2,4], [5,6,7]])\n",
    "print(b[0,2])\n",
    "\n",
    "#Negative Indexing\n",
    "print(b[1,-3], b[1,-1])"
   ]
  },
  {
   "cell_type": "code",
   "execution_count": 32,
   "id": "91f37abd",
   "metadata": {},
   "outputs": [
    {
     "name": "stdout",
     "output_type": "stream",
     "text": [
      "[2 3 4 7]\n",
      "[4 7 8 9]\n",
      "[1 2 3 4]\n",
      "[2 3 4]\n",
      "[]\n",
      "Step: [2 4 8]\n",
      "[1 3 7 9]\n"
     ]
    }
   ],
   "source": [
    "#Slicing Arrays\n",
    "#We pass slice instead of index like this: [start:end].\n",
    "#We can also define the step, like this: [start:end:step]\n",
    "\n",
    "arr = np.array([1,2,3,4,7,8,9])\n",
    "print(arr[1:5])   #end is exclusive\n",
    "print(arr[3:])   #will print until the end of the array\n",
    "print(arr[:4])   #will print from the beginning of the array till index 3\n",
    "\n",
    "#Negative Slicing\n",
    "print(arr[-6:-3])\n",
    "print(arr[-1:-4])\n",
    "\n",
    "\n",
    "#Step\n",
    "print(\"Step:\", arr[1:6:2])\n",
    "print(arr[::2])   #Return every other element in 2 steps"
   ]
  },
  {
   "cell_type": "code",
   "execution_count": 38,
   "id": "9ced0909",
   "metadata": {},
   "outputs": [
    {
     "name": "stdout",
     "output_type": "stream",
     "text": [
      "[1 2 3]\n",
      "[4 9]\n",
      "[[ 6  8]\n",
      " [ 6  9]\n",
      " [14 15]]\n"
     ]
    }
   ],
   "source": [
    "#Slicing 2-D Arrays\n",
    "arr = np.array([[1, 2, 3, 4, 5], [6, 7, 8, 9, 10]])\n",
    "print(arr[0,0:3])\n",
    "print(arr[0:2, 3])   #From both the lists, return the index 3\n",
    "\n",
    "arr2 = np.array([[2,4,6,8], [1,3,6,9], [12,13,14,15]])\n",
    "print(arr2[0:3, 2:4])"
   ]
  },
  {
   "cell_type": "code",
   "execution_count": 43,
   "id": "d8b1c721",
   "metadata": {},
   "outputs": [
    {
     "name": "stdout",
     "output_type": "stream",
     "text": [
      "int32\n",
      "<U11\n"
     ]
    }
   ],
   "source": [
    "#Data types in Numpy\n",
    "arr = np.array([1,2,3,4])\n",
    "print(arr.dtype)   #32-bit signed integer, Stores values from (-2^31 to 2^31 -1)\n",
    "\n",
    "arr2 = np.array(['apple', 'banana'])\n",
    "print(arr2.dtype)"
   ]
  },
  {
   "cell_type": "code",
   "execution_count": 45,
   "id": "59423ed6",
   "metadata": {},
   "outputs": [
    {
     "name": "stdout",
     "output_type": "stream",
     "text": [
      "[b'2' b'3' b'4']\n",
      "|S1\n",
      "[1 2 3 4]\n",
      "int64\n"
     ]
    }
   ],
   "source": [
    "#Creating array with a defined data type\n",
    "arr = np.array([2,3,4], dtype=\"S\")\n",
    "print(arr)\n",
    "print(arr.dtype)\n",
    "\n",
    "#Creating an array with data type 4 bytes integer\n",
    "arr2 = np.array([1,2,3,4], dtype='i8')\n",
    "print(arr2)\n",
    "print(arr2.dtype)"
   ]
  },
  {
   "cell_type": "code",
   "execution_count": 66,
   "id": "1fb33180",
   "metadata": {},
   "outputs": [
    {
     "name": "stdout",
     "output_type": "stream",
     "text": [
      "[1.+0.j 2.+0.j 3.+0.j]\n"
     ]
    }
   ],
   "source": [
    "b = np.array([1,2,3], dtype = complex)\n",
    "print(b)"
   ]
  },
  {
   "cell_type": "code",
   "execution_count": 49,
   "id": "c28bc4f4",
   "metadata": {},
   "outputs": [
    {
     "name": "stdout",
     "output_type": "stream",
     "text": [
      "[1 2]\n",
      "int32\n",
      "[ True False  True  True]\n",
      "bool\n"
     ]
    }
   ],
   "source": [
    "#Converting Data type on Existing arrays\n",
    "#Using astype function\n",
    "\n",
    "arr = np.array([1.1, 2.3])\n",
    "newarr = arr.astype('i')\n",
    "#newarr = arr.astype(int)\n",
    "\n",
    "print(newarr)\n",
    "print(newarr.dtype)\n",
    "\n",
    "arr2 = np.array([1,0,3, -1])\n",
    "newarr2 = arr2.astype(bool)\n",
    "print(newarr2)\n",
    "print(newarr2.dtype)"
   ]
  },
  {
   "cell_type": "code",
   "execution_count": 60,
   "id": "8ee379a9",
   "metadata": {},
   "outputs": [
    {
     "name": "stdout",
     "output_type": "stream",
     "text": [
      "Copy: \n",
      "\n",
      "[ 1  2 99  4]\n",
      "[1 2 3 4]\n",
      "[ 1  2  3 78]\n",
      "\n",
      "View: \n",
      "\n",
      "[65  4  6 99]\n",
      "[65  4  6 99]\n",
      "\n",
      "Working with base: \n",
      "\n",
      "None\n",
      "[ 1  2  3 78]\n"
     ]
    }
   ],
   "source": [
    "#Difference between Copy and View\n",
    "#The copy owns the data and any changes made to the copy will not affect original array, and any changes made to the original array will not affect the copy.\n",
    "\n",
    "#The view does not own the data and any changes made to the view will affect the original array, and any changes made to the original array will affect the view.\n",
    "\n",
    "print(\"Copy: \\n\")\n",
    "arr = np.array([1,2,3,4])\n",
    "x = arr.copy()\n",
    "\n",
    "arr[2] = 99\n",
    "\n",
    "print(arr)\n",
    "print(x)\n",
    "\n",
    "x[3] = 78\n",
    "print(x)\n",
    "\n",
    "#View\n",
    "print(\"\\nView: \\n\")\n",
    "arr2 = np.array([2,4,6,8])\n",
    "y = arr2.view()\n",
    "arr2[3] = 99\n",
    "y[0] = 65\n",
    "\n",
    "print(arr2)\n",
    "print(y)\n",
    "\n",
    "#If we make a change in the view array, the change will also be reflected in the original array\n",
    "\n",
    "#.base - to check whether an array owns its data or not\n",
    "print(\"\\nWorking with base: \\n\")\n",
    "z = np.array([1,2,3])\n",
    "\n",
    "p = z.copy()\n",
    "q = x.view()\n",
    "\n",
    "print(p.base)\n",
    "print(q.base)"
   ]
  },
  {
   "cell_type": "code",
   "execution_count": 65,
   "id": "caf70cb8",
   "metadata": {},
   "outputs": [
    {
     "name": "stdout",
     "output_type": "stream",
     "text": [
      "(3, 4)\n",
      "(2, 3, 4)\n",
      "arr3: [[[[[1 2 3 4]]]]]\n",
      "(1, 1, 1, 1, 4)\n"
     ]
    }
   ],
   "source": [
    "#Shape\n",
    "\n",
    "arr = np.array([[2,4,6,8], [1,3,6,9], [12,13,14,15]])\n",
    "print(arr.shape)\n",
    "#The example above returns (3, 4), which means that the array has 2 dimensions, where the first dimension has 3 elements and the second has 4.\n",
    "\n",
    "\n",
    "arr2 = np.array([[[1,2,3,4], [1,2,3,4], [1,2,3,4]], [[1,2,3,4], [1,2,3,4], [1,2,3,4]]])\n",
    "print(arr2.shape)\n",
    "\n",
    "arr3 = np.array([1,2,3,4], ndmin = 5)\n",
    "print(\"arr3:\", arr3)\n",
    "print(arr3.shape)"
   ]
  },
  {
   "cell_type": "code",
   "execution_count": 19,
   "id": "4e71a7c2",
   "metadata": {},
   "outputs": [
    {
     "data": {
      "text/plain": [
       "array([1.5, 2. , 2.5, 3. , 3.5])"
      ]
     },
     "execution_count": 19,
     "metadata": {},
     "output_type": "execute_result"
    }
   ],
   "source": [
    "np.arange(1.5, 4, 0.5) #Generate a sequence starting with 1.5 with width 0.5 and excluding 4"
   ]
  },
  {
   "cell_type": "code",
   "execution_count": 72,
   "id": "eca293a6",
   "metadata": {},
   "outputs": [
    {
     "name": "stdout",
     "output_type": "stream",
     "text": [
      "[[0. 0. 0.]\n",
      " [0. 0. 0.]]\n",
      "(2, 3)\n"
     ]
    }
   ],
   "source": [
    "arr = np.empty((2,3)) #empty() function is used to return new array of a given shape and type. It has random values and uninitialized entries.\n",
    "print(arr)\n",
    "print(arr.shape)"
   ]
  },
  {
   "cell_type": "code",
   "execution_count": 79,
   "id": "0157d87c",
   "metadata": {},
   "outputs": [
    {
     "name": "stdout",
     "output_type": "stream",
     "text": [
      "[[[0. 0. 0.]\n",
      "  [0. 0. 0.]]\n",
      "\n",
      " [[0. 0. 0.]\n",
      "  [0. 0. 0.]]\n",
      "\n",
      " [[0. 0. 0.]\n",
      "  [0. 0. 0.]]\n",
      "\n",
      " [[0. 0. 0.]\n",
      "  [0. 0. 0.]]] \n",
      "\n",
      "[[0 0 0 0 0]\n",
      " [0 0 0 0 0]\n",
      " [0 0 0 0 0]\n",
      " [0 0 0 0 0]]\n"
     ]
    },
    {
     "data": {
      "text/plain": [
       "array([[1, 1, 1, 1, 1],\n",
       "       [1, 1, 1, 1, 1],\n",
       "       [1, 1, 1, 1, 1],\n",
       "       [1, 1, 1, 1, 1]])"
      ]
     },
     "execution_count": 79,
     "metadata": {},
     "output_type": "execute_result"
    }
   ],
   "source": [
    "arr = np.zeros((4,2,3))   #default dtype is 'float'\n",
    "print(arr, \"\\n\")\n",
    "\n",
    "y = np.zeros((4,5), dtype=int)   #typecasting to int\n",
    "print(y)\n",
    "\n",
    "np.ones_like(y)   #Initializing the array to 1\n",
    "np.ones_like(y, dtype=float)   #Initializing the array to 0 with data type float"
   ]
  },
  {
   "cell_type": "code",
   "execution_count": 94,
   "id": "e88bec05",
   "metadata": {},
   "outputs": [
    {
     "name": "stdout",
     "output_type": "stream",
     "text": [
      "[0, 1, 2, 3, 4, 5, 6]\n",
      "(0, 1, 2, 3)\n",
      "[ 2  5  8 11 14 17]\n",
      "[ 1  3  5  7 10]\n"
     ]
    }
   ],
   "source": [
    "print(list(range(7)))   #printing a list of size 7 starting from 0 with width 1\n",
    "print(tuple(range(4)))  #printing a tuple of size 4 starting from 0 with width 1\n",
    "\n",
    "#arange\n",
    "print(np.arange(2, 20, 3))   #Generate a sequence starting with 2 with width 3 and excluding 20\n",
    "\n",
    "np.arange(2.0, 10, 1.5, dtype= int)"
   ]
  },
  {
   "cell_type": "code",
   "execution_count": 99,
   "id": "fb287f70",
   "metadata": {},
   "outputs": [
    {
     "name": "stdout",
     "output_type": "stream",
     "text": [
      "[ 1  3  5  7 10]\n",
      "(array([ 1.        ,  3.11111111,  5.22222222,  7.33333333,  9.44444444,\n",
      "       11.55555556, 13.66666667, 15.77777778, 17.88888889, 20.        ]), 2.111111111111111)\n",
      "y: [0.         0.55555556 1.11111111 1.66666667 2.22222222 2.77777778\n",
      " 3.33333333 3.88888889 4.44444444 5.        ]\n",
      "z: [0.  0.5 1.  1.5 2.  2.5 3.  3.5 4.  4.5]\n"
     ]
    }
   ],
   "source": [
    "#linspace\n",
    "print(np.linspace(1, 10, 5, dtype=int))   #divide the interval 1 to 10 into 5 equally spaced divisions\n",
    "x = np.linspace(1,20,10, retstep = True)\n",
    "print(x)\n",
    "\n",
    "y = np.linspace(0, 5, 10)\n",
    "z = np.linspace(0, 5, 10, endpoint = False)   #endpoint to false will omit the last point in the sequence\n",
    "\n",
    "print(\"y:\", y)\n",
    "print(\"z:\", z)"
   ]
  },
  {
   "cell_type": "code",
   "execution_count": 104,
   "id": "51872066",
   "metadata": {},
   "outputs": [
    {
     "name": "stdout",
     "output_type": "stream",
     "text": [
      "[[ 0.  0.  0.]\n",
      " [ 0.  2.  4.]\n",
      " [ 0.  4.  8.]\n",
      " [ 0.  6. 12.]]\n",
      "\n",
      " [[ 0.  0.  0.  0.]\n",
      " [ 0.  2.  4.  6.]\n",
      " [ 0.  4.  8. 12.]\n",
      " [ 0.  6. 12. 18.]]\n"
     ]
    }
   ],
   "source": [
    "#Initializing an Array from a Function\n",
    "def f(i, j):\n",
    "    return 2*i*j\n",
    "\n",
    "x = np.fromfunction(f, (4,3))   #(4,3) is the dimension of the matrix, i.e, 3 columns and 4 rows\n",
    "print(x)\n",
    "\n",
    "#A more consise way of writing the function\n",
    "y = np.fromfunction(lambda i,j: 2*i*j, (4,4))\n",
    "print(\"\\n\", y)"
   ]
  },
  {
   "cell_type": "code",
   "execution_count": 112,
   "id": "8812472f",
   "metadata": {},
   "outputs": [
    {
     "name": "stdout",
     "output_type": "stream",
     "text": [
      "Original: [1. 2. 3. 4. 5.]\n",
      "x**3 =  [  1.   8.  27.  64. 125.]\n",
      "x-1 =  [0. 1. 2. 3. 4.]\n",
      "[0.         1.         1.41421356 1.73205081 2.        ]\n",
      "\n",
      "y: [1.         0.60653066 0.36787944 0.22313016 0.13533528]\n",
      "[ 0.          0.98431873  0.48771645 -0.59340065 -0.98842844]\n"
     ]
    }
   ],
   "source": [
    "#Universal Functions\n",
    "#Universal functions in Numpy are simple mathematical functions. \n",
    "#It is just a term that we gave to mathematical functions in the Numpy library. \n",
    "#Numpy provides various universal functions that cover a wide variety of operations.\n",
    "\n",
    "x = np.linspace(1,5,5)\n",
    "print(\"Original:\", x)\n",
    "\n",
    "print(\"x**3 = \", x**3)   #each element in the array is raised to the power of 3\n",
    "\n",
    "print(\"x-1 = \", x -1)    #each element of the array is subtracted by 1\n",
    "\n",
    "print(np.sqrt(x-1))      #The square root of each element is taken\n",
    "\n",
    "y = np.exp(-np.linspace(0,2,5))\n",
    "#The interval from 0 to 2 is equally divided into 5 divisions\n",
    "#The exponential of the negation of those numbers are taken\n",
    "print(\"\\ny:\", y)\n",
    "\n",
    "print(np.sin(x-y))"
   ]
  },
  {
   "cell_type": "code",
   "execution_count": 129,
   "id": "8c23fb4e",
   "metadata": {},
   "outputs": [
    {
     "name": "stdout",
     "output_type": "stream",
     "text": [
      "[[1 4]\n",
      " [4 1]]\n",
      "\n",
      "c: [[1 2]\n",
      " [3 4]]\n",
      "\n",
      "c.T: [[1 3]\n",
      " [2 4]]\n",
      "\n",
      "Matrix Multiplication between a and b:\n",
      " [[5 4]\n",
      " [4 5]]\n",
      "\n",
      "Dot Product:\n",
      " [[5 4]\n",
      " [4 5]]\n",
      "\n",
      "Dot product between a and b: [ 5  8 11]\n"
     ]
    }
   ],
   "source": [
    "#Matrix Multiplication in numpy\n",
    "a = np.array([[1,2], [2,1]])\n",
    "b = np.array(((1,2), (2,1)))\n",
    "\n",
    "print(a*b)   #Element-wise multiplication\n",
    "\n",
    "c = np.array([[1,2], [3,4]])\n",
    "print(\"\\nc:\", c)\n",
    "print(\"\\nc.T:\", c.T)   #Transpose of matrix c\n",
    "\n",
    "print(\"\\nMatrix Multiplication between a and b:\\n\", np.matmul(a,b))\n",
    "print(\"\\nDot Product:\\n\", a.dot(b))   #also np.dot(a,b)\n",
    "#For 1-D arrays, dot product acts as the inner product of the vectors\n",
    "#For 2-D arrays, it acts as matrix multiplication\n"
   ]
  },
  {
   "cell_type": "code",
   "execution_count": 134,
   "id": "5e4fe8e0",
   "metadata": {},
   "outputs": [
    {
     "name": "stdout",
     "output_type": "stream",
     "text": [
      "\n",
      "Dot product between a and b: [ 5  8 11]\n",
      "[[False False  True]\n",
      " [False  True  True]]\n",
      "[[ True False False]\n",
      " [False False False]]\n"
     ]
    }
   ],
   "source": [
    "#Comparison and Logic Opera\n",
    "a = np.array([[1,2,3], [2,3,4]])\n",
    "b = np.array([1,2])\n",
    "print(\"\\nDot product between a and b:\", np.dot(b,a))\n",
    "\n",
    "print(a>2)   #returns a boolean for each element-wise comparison \n",
    "print((a<2) | (a>100))"
   ]
  },
  {
   "cell_type": "code",
   "execution_count": 142,
   "id": "a2b2178b",
   "metadata": {},
   "outputs": [
    {
     "name": "stdout",
     "output_type": "stream",
     "text": [
      "[[1 2 3]\n",
      " [4 5 6]]\n",
      "[1 2 3 4 5 6]\n",
      "\n",
      "Modified b:  [ 1  2 99  4  5  6]\n",
      "a: [[1 2 3]\n",
      " [4 5 6]]\n",
      "\n",
      "Original c: [1 2 3 4 5 6]\n",
      "Modified c: [  1   2   3 108   5   6]\n",
      "[[  1   2   3]\n",
      " [108   5   6]]\n"
     ]
    }
   ],
   "source": [
    "#Flatten and Ravel\n",
    "a = np.array([[1,2,3], [4,5,6]])\n",
    "b = a.flatten()   #Creates an independent, flattened copy of a\n",
    "print(a)\n",
    "print(b)\n",
    "\n",
    "b[2] = 99\n",
    "print(\"\\nModified b: \", b)\n",
    "print(\"a:\", a)\n",
    "\n",
    "#Ravel\n",
    "c = a.ravel()   #c only presents a view of a. Any changes made to c will be reflected in a \n",
    "print(\"\\nOriginal c:\", c)\n",
    "\n",
    "c[3] = 108\n",
    "print(\"Modified c:\", c)\n",
    "print(a)\n"
   ]
  },
  {
   "cell_type": "code",
   "execution_count": 152,
   "id": "385e29dd",
   "metadata": {},
   "outputs": [
    {
     "name": "stdout",
     "output_type": "stream",
     "text": [
      "[1. 2. 3. 4. 5. 6. 7. 8.]\n",
      "None\n",
      "[[1. 2.]\n",
      " [3. 4.]]\n",
      "c: [[1. 9.]\n",
      " [3. 4.]]\n",
      "b: [1. 9. 3. 4.]\n"
     ]
    }
   ],
   "source": [
    "#Resize and Reshape\n",
    "#resize - inverse of flatten\n",
    "#reshape - returns a view of the array with its elements reshaped as required.\n",
    "\n",
    "a = np.linspace(1,8,8)\n",
    "print(a)\n",
    "\n",
    "print(a.resize(2,2,2))   #Doesn't return anything\n",
    "a.resize(2,2,2)\n",
    "a\n",
    "\n",
    "b = np.linspace(1,4,4)\n",
    "c = b.reshape(2,2)\n",
    "print(c)\n",
    "\n",
    "c[0,1] = 9\n",
    "print(\"c:\", c)\n",
    "print(\"b:\", b)\n"
   ]
  },
  {
   "cell_type": "code",
   "execution_count": 4,
   "id": "136b6b81",
   "metadata": {},
   "outputs": [
    {
     "name": "stdout",
     "output_type": "stream",
     "text": [
      "[ 1.  2.  3.  4.  5.  6.  7.  8.  9. 10. 11. 12. 13. 14. 15. 16.]\n",
      "[ 1.  2.  3.  4.  5.  6.  7.  8.  9. 10. 11. 12. 13. 14. 15. 16.]\n",
      "\n",
      "b: [[[ 1.  2.  3.  4.]\n",
      "  [ 5.  6.  7.  8.]]\n",
      "\n",
      " [[ 9. 10. 11. 12.]\n",
      "  [13. 14. 15. 16.]]]\n",
      "\n",
      "b transpose: \n",
      " [[[ 1.  9.]\n",
      "  [ 5. 13.]]\n",
      "\n",
      " [[ 2. 10.]\n",
      "  [ 6. 14.]]\n",
      "\n",
      " [[ 3. 11.]\n",
      "  [ 7. 15.]]\n",
      "\n",
      " [[ 4. 12.]\n",
      "  [ 8. 16.]]]\n",
      "\n",
      "Size of b transpose: (4, 2, 2)\n",
      "\n",
      "b transpose: \n",
      " [[[ 1.  9.]\n",
      "  [ 5. 13.]]\n",
      "\n",
      " [[ 2. 10.]\n",
      "  [ 6. 14.]]\n",
      "\n",
      " [[ 3. 11.]\n",
      "  [ 7. 15.]]\n",
      "\n",
      " [[ 4. 12.]\n",
      "  [ 8. 16.]]]\n"
     ]
    }
   ],
   "source": [
    "#Transposing an array\n",
    "#the method transpose returns a view of an array with its axes transposed\n",
    "\n",
    "a = np.linspace(1,16,16)\n",
    "b = a.reshape(2,2,4)\n",
    "print(a)\n",
    "print(a.transpose())   # Transposing a 1-D array returns the array unchanged\n",
    "print(\"\\nb:\",b)\n",
    "print(\"\\nb transpose: \\n\", b.transpose())\n",
    "print(\"\\nSize of b transpose:\", b.transpose().shape)\n",
    "\n",
    "print(\"\\nb transpose: \\n\", b.T)\n"
   ]
  },
  {
   "cell_type": "code",
   "execution_count": 21,
   "id": "b22986cb",
   "metadata": {},
   "outputs": [
    {
     "name": "stdout",
     "output_type": "stream",
     "text": [
      "d: [[2 3 4]\n",
      " [1 1 1]]\n",
      "\n",
      "e: [[[ 2  1 10]\n",
      "  [ 3  1 20]\n",
      "  [ 4  1 30]]]\n",
      "\n",
      "f: [2 3 4 1 1 1]\n",
      "(1, 3, 3)\n",
      "[array([[2, 3, 4]]), array([[1, 1, 1]])]\n",
      "[array([2, 3, 4]), array([1, 1, 1])]\n"
     ]
    }
   ],
   "source": [
    "#Merging and Splitting Arrays\n",
    "#\n",
    "a = np.array([2,3,4])\n",
    "b = np.array([1,1,1])\n",
    "c = np.array([10,20,30])\n",
    "d = np.vstack((a,b))\n",
    "e = np.dstack((a,b,c))\n",
    "f = np.hstack((a,b))\n",
    "print(\"d:\",d)\n",
    "print(\"\\ne:\",e)\n",
    "print(\"\\nf:\",f)\n",
    "print(e.shape)\n",
    "\n",
    "print(np.vsplit(d,2))\n",
    "print(np.hsplit(f,2))"
   ]
  },
  {
   "cell_type": "code",
   "execution_count": 28,
   "id": "b0fee168",
   "metadata": {},
   "outputs": [
    {
     "name": "stdout",
     "output_type": "stream",
     "text": [
      "a: [ 1  2  3  4  5  6  7  8  9 10]\n",
      "[3 5 7]\n",
      "[3 6 9]\n",
      "[6 5 4 3 2 1]\n"
     ]
    }
   ],
   "source": [
    "#Indexing and Slicing of Array\n",
    "a = np.linspace(1,10,10, dtype=int)\n",
    "print('a:', a)\n",
    "print(a[2:7:2])   #stride of 2 from index 2 to index 6\n",
    "print(a[2::3])    #stride of 2 from index 2 till the end\n",
    "print(a[5::-1])   #stride of -1 from index 5 till the beginning"
   ]
  },
  {
   "cell_type": "code",
   "execution_count": 40,
   "id": "33ace361",
   "metadata": {},
   "outputs": [
    {
     "name": "stdout",
     "output_type": "stream",
     "text": [
      "[[ 1.  2.  3.]\n",
      " [ 4.  5.  6.]\n",
      " [ 7.  8.  9.]\n",
      " [10. 11. 12.]]\n",
      "\n",
      " [7. 8. 9.]\n",
      "\n",
      " [ 2.  5.  8. 11.]\n",
      "\n",
      " [[ 5.  6.]\n",
      " [ 8.  9.]\n",
      " [11. 12.]]\n"
     ]
    }
   ],
   "source": [
    "a = np.linspace(1,12,12).reshape(4,3)\n",
    "print(a)\n",
    "print(\"\\n\", a[2,:])   #print the 3rd row of a\n",
    "print(\"\\n\", a[:,1])   #print all the elements having index 1 from all the rows\n",
    "print(\"\\n\", a[1:, 1:3])   #print as from the 2nd row all the elements having indices 1 and 2"
   ]
  },
  {
   "cell_type": "code",
   "execution_count": 44,
   "id": "b9ace7f6",
   "metadata": {},
   "outputs": [
    {
     "name": "stdout",
     "output_type": "stream",
     "text": [
      "[ 1.  2.  3.  4.  5.  6.  7.  8.  9. 10. 11. 12.]\n",
      "[2. 5. 6.]\n",
      "\n",
      "b: [[ 1.  2.  3.]\n",
      " [ 4.  5.  6.]\n",
      " [ 7.  8.  9.]\n",
      " [10. 11. 12.]]\n"
     ]
    }
   ],
   "source": [
    "a = np.linspace(1,12,12)\n",
    "b = a.reshape(4,3)\n",
    "print(\"a:\"a)\n",
    "ia = [1,4,5]\n",
    "print(a[ia])   #will print the elements having the indices specified in ia\n",
    "print(\"\\nb:\",b)"
   ]
  },
  {
   "cell_type": "code",
   "execution_count": 50,
   "id": "93108e34",
   "metadata": {},
   "outputs": [
    {
     "name": "stdout",
     "output_type": "stream",
     "text": [
      "[ 7  9 11]\n",
      "M: [[1. 1. 1.]\n",
      " [1. 1. 1.]\n",
      " [1. 1. 1.]]\n",
      "\n",
      "M+a: [[3. 5. 7.]\n",
      " [3. 5. 7.]\n",
      " [3. 5. 7.]]\n"
     ]
    }
   ],
   "source": [
    "#Broadcasting\n",
    "a = np.array([2,4,6])\n",
    "print(a+5)\n",
    "\n",
    "M = np.ones((3,3))\n",
    "print(\"M:\",M)\n",
    "print(\"\\nM+a:\", M+a)"
   ]
  },
  {
   "cell_type": "code",
   "execution_count": 11,
   "id": "152e2562",
   "metadata": {},
   "outputs": [
    {
     "name": "stdout",
     "output_type": "stream",
     "text": [
      "4\n",
      "0\n",
      "10\n",
      "2\n",
      "[ 5 10 15 34]\n",
      "[-1  3  5]\n"
     ]
    }
   ],
   "source": [
    "#Maximum and Minimum Values\n",
    "arr = np.array([2,4,6,8,10])\n",
    "print(np.argmax(arr))   #will print the index of the largest number\n",
    "print(np.argmin(arr))   #will print the index of the least number\n",
    "\n",
    "print(np.max(arr))    #will print the largest number in the array\n",
    "print(np.min(arr))    #will print the least number in the array\n",
    "\n",
    "\n",
    "a = np.array([[2,0,-1,5], [3,7,9,10], [5,10,15,34]])\n",
    "\n",
    "print(a.max(axis = 0))   #will print the maxima from each column\n",
    "print(a.min(axis = 1))   #will print the minima from each row"
   ]
  },
  {
   "cell_type": "code",
   "execution_count": 22,
   "id": "60bd89ef",
   "metadata": {},
   "outputs": [
    {
     "name": "stdout",
     "output_type": "stream",
     "text": [
      "Sorted arr: \n",
      " [ -1   2   5  67 100]\n",
      "\n",
      "Sorted arr2: \n",
      " [[   1    2    6   10]\n",
      " [-100  -23    2   67]\n",
      " [  -9    1    4    5]]\n",
      "\n",
      "arr2 Sorted column wise:\n",
      " [[-100  -23    2    5]\n",
      " [  -9    1    4   10]\n",
      " [   1    2    6   67]]\n"
     ]
    }
   ],
   "source": [
    "#Sorting an Array\n",
    "arr = np.array([5,-1,100,67,2])\n",
    "a = arr.sort()\n",
    "print(\"Sorted arr: \\n\", arr)\n",
    "\n",
    "arr2 = np.array([[10,6,2,1], [67,-100,-23,2], [4,5,1,-9]])\n",
    "arr2.sort()\n",
    "print(\"\\nSorted arr2: \\n\",arr2)\n",
    "arr2.sort(axis=0)   #The columns of the array are sorted\n",
    "print(\"\\narr2 Sorted column wise:\\n\", arr2)"
   ]
  },
  {
   "cell_type": "code",
   "execution_count": 38,
   "id": "73fe7b7f",
   "metadata": {},
   "outputs": [
    {
     "name": "stdout",
     "output_type": "stream",
     "text": [
      "[2 3 1 0]\n",
      "2\n",
      "[1 2 3 4]\n"
     ]
    }
   ],
   "source": [
    "a = np.array([3,0,-100,-23])\n",
    "print(np.argsort(a))   #will print the index of the sorted list\n",
    "\n",
    "b = np.array([1,2,3,4])\n",
    "print(np.searchsorted(b,2.5))   #will print out the index postion where the number mentioned as the 2nd parameter will be inserted \n",
    "                                #such that the order of the array is preserved\n",
    "print(np.searchsorted(b, (0, 1.5, 3.5)))    "
   ]
  },
  {
   "cell_type": "code",
   "execution_count": 47,
   "id": "89bd4694",
   "metadata": {},
   "outputs": [
    {
     "name": "stdout",
     "output_type": "stream",
     "text": [
      "[       nan        nan 0.81649658 1.41421356]\n",
      "nan nan\n",
      "0.8164965809277259 1.4142135623730951\n",
      "0 0\n",
      "2 3\n",
      "[2 5 6 0 9]\n",
      "[ -1   4   3  -1 -10]\n"
     ]
    },
    {
     "name": "stderr",
     "output_type": "stream",
     "text": [
      "C:\\Users\\saivi\\AppData\\Local\\Temp\\ipykernel_8748\\3960462800.py:2: RuntimeWarning: invalid value encountered in sqrt\n",
      "  a = np.sqrt(np.linspace(-2,2,4))\n"
     ]
    }
   ],
   "source": [
    "#Maxima and Minima\n",
    "a = np.sqrt(np.linspace(-2,2,4))\n",
    "print(a)\n",
    "print(np.min(a), np.max(a))\n",
    "print(np.nanmin(a), np.nanmax(a))\n",
    "print(np.argmin(a), np.argmax(a))\n",
    "print(np.nanargmin(a), np.nanargmax(a))\n",
    "\n",
    "b = np.array([2,4,6,-1, -10])\n",
    "c = np.array([-1,5,3,0,9])\n",
    "\n",
    "print(np.fmax(b,c))   #will compare each element of both arrays having the same index and print the maximum value\n",
    "print(np.fmin(b,c))   #will compare each element of both arrays having the same index and print the minimum value "
   ]
  },
  {
   "cell_type": "code",
   "execution_count": 51,
   "id": "af89c95b",
   "metadata": {},
   "outputs": [
    {
     "name": "stdout",
     "output_type": "stream",
     "text": [
      "3.0\n",
      "1.5\n",
      "[0.9 1.5 2.1]\n"
     ]
    }
   ],
   "source": [
    "#Percentile\n",
    "a = np.array([[0,0.6,1.2], [1.8,2.4,3.0]])\n",
    "print(np.percentile(a, q=100))   #will print the maximum value of the array\n",
    "print(np.percentile(a,50))   #will print the median of the array\n",
    "print(np.percentile(a, 50, axis = 0))   # will print the median of each column"
   ]
  },
  {
   "cell_type": "code",
   "execution_count": 56,
   "id": "74f6dd94",
   "metadata": {},
   "outputs": [
    {
     "name": "stdout",
     "output_type": "stream",
     "text": [
      "5.25\n",
      "5.0\n",
      "3.5348837209302326\n",
      "10.6875\n",
      "3.2691742076555053\n",
      "3.774917217635375\n"
     ]
    }
   ],
   "source": [
    "#Sample Statistics\n",
    "a = np.array([1,4,6,10])\n",
    "print(np.mean(a))   #will calculate the arithmetic mean of the values in the array\n",
    "print(np.median(a)) #will calculate the arithmetic median of the values of the array\n",
    "print(np.average(a, weights=[2, 0.3, 2, 0]))   #will calculate the weighted average\n",
    "print(np.var(a))   #will calculate the variance\n",
    "print(np.std(a))   #will calculate the standard deviation\n",
    "print(np.std(a, ddof=1))   #will calculate the standard deviation\n",
    "#ddof = delta degree of freedom - maximum number of logically independent values\n"
   ]
  },
  {
   "cell_type": "code",
   "execution_count": 61,
   "id": "40c22f08",
   "metadata": {},
   "outputs": [
    {
     "name": "stdout",
     "output_type": "stream",
     "text": [
      "[2 2 3 6 3 1 7 9 7 8]\n",
      "[[0.88962207 0.93870049 0.8771474 ]\n",
      " [0.76639505 0.26797963 0.31583654]]\n",
      "1\n",
      "[4.6415078  6.42162071 2.8930879 ]\n"
     ]
    }
   ],
   "source": [
    "#Special Distributions\n",
    "#np.random() - generate random numbers from any of several dsitributions\n",
    "print(np.random.randint(1,10,10))   #print random integets from [1,10]\n",
    "print(np.random.rand(2,3))   #creates an 2x3 array with random values\n",
    "print(np.random.randint(10)) #prints a random integer from [0.10]\n",
    "print(np.random.normal(loc=5, size=3)) #selects a random value from the normal distribution\n",
    "#having mean = 'loc' and s.d = 'scale'\n"
   ]
  }
 ],
 "metadata": {
  "kernelspec": {
   "display_name": "Python 3 (ipykernel)",
   "language": "python",
   "name": "python3"
  },
  "language_info": {
   "codemirror_mode": {
    "name": "ipython",
    "version": 3
   },
   "file_extension": ".py",
   "mimetype": "text/x-python",
   "name": "python",
   "nbconvert_exporter": "python",
   "pygments_lexer": "ipython3",
   "version": "3.10.9"
  }
 },
 "nbformat": 4,
 "nbformat_minor": 5
}
